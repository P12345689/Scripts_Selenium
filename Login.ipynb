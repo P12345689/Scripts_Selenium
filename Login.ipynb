{
 "cells": [
  {
   "cell_type": "markdown",
   "metadata": {},
   "source": [
    "## Automatic Login to any Login Page \n",
    "\n",
    "### Steps\n",
    "<br>\n",
    "1. Open the Page <br>\n",
    "2. Find the Credential Links <br>\n",
    "3. Enter the Details <br>\n",
    "4. Click the Enter simillar button\n",
    "<br>\n",
    "Selenium is an open-source Web Automation Tool. Using selenium gives you the ability of controlling web browsers through your program\n",
    "<br>\n",
    "What is webdriver \n",
    "<br>\n",
    "It is an open Tool used by selenium which makes connection between your program and any website.\n",
    "<br>\n",
    "Check the Google Version \n",
    "<br>\n",
    "Chrome -> Help \n",
    "<br>\n",
    "Links for the Chrome Webdriver Installation\n",
    "<br>\n",
    "https://chromedriver.chromium.org/downloads\n"
   ]
  },
  {
   "cell_type": "code",
   "execution_count": 1,
   "metadata": {},
   "outputs": [
    {
     "name": "stdout",
     "output_type": "stream",
     "text": [
      "Requirement already satisfied: selenium in c:\\users\\pritam\\anaconda3\\lib\\site-packages (3.141.0)\n",
      "Requirement already satisfied: urllib3 in c:\\users\\pritam\\anaconda3\\lib\\site-packages (from selenium) (1.25.8)\n"
     ]
    }
   ],
   "source": [
    "!pip install selenium"
   ]
  },
  {
   "cell_type": "code",
   "execution_count": 11,
   "metadata": {},
   "outputs": [],
   "source": [
    "from selenium import webdriver"
   ]
  },
  {
   "cell_type": "markdown",
   "metadata": {},
   "source": [
    "#### Opening Google \n",
    "<br>\n",
    "Web driver.chrome() : opens up Chrome and returns a browser objects \n",
    "<br>\n",
    "Syntax : \n",
    "<br>\n",
    "browser = webdriver.Chrome(path_to_chromedriver.exe_file)"
   ]
  },
  {
   "cell_type": "markdown",
   "metadata": {},
   "source": [
    "#### Opening the Link\n",
    "<br>\n",
    "browser.get() : open ups the website whose link is given as a argument\n",
    "<br>\n",
    "Syntax : \n",
    "<br>\n",
    "browser.get(link_of_the_website)"
   ]
  },
  {
   "cell_type": "code",
   "execution_count": 18,
   "metadata": {},
   "outputs": [],
   "source": [
    "from selenium import webdriver\n",
    "path=r\"D:\\\\GitHUB#\\\\chromedriver.exe\"\n",
    "driver=webdriver.Chrome(path)\n",
    "driver.get(\"https://www.linkedin.com/login?fromSignIn=true&trk=guest_homepage-basic_nav-header-signin\")"
   ]
  },
  {
   "cell_type": "markdown",
   "metadata": {},
   "source": [
    "#### Enter the user Id and password  "
   ]
  },
  {
   "cell_type": "code",
   "execution_count": 20,
   "metadata": {},
   "outputs": [],
   "source": [
    "user_id = ''\n",
    "password = ''"
   ]
  },
  {
   "cell_type": "markdown",
   "metadata": {},
   "source": [
    "#### Finding an element with id \n",
    "\n",
    "element = browser.find_element_by_id(\"id of the element\")"
   ]
  },
  {
   "cell_type": "code",
   "execution_count": null,
   "metadata": {},
   "outputs": [],
   "source": [
    "user_id_id = driver.find_element_by_id(\"username\")\n",
    "user_id_id.send_keys(user_id)\n",
    "\n",
    "password_id = driver.find_element_by_id(\"password\")\n",
    "password_id.send_keys(password)\n",
    "\n",
    "Login = driver.find_element_by_xpath(\"//*[@id=\"app__container\"]/main/div[2]/form/div[3]/button\")#\n",
    "login.click()"
   ]
  },
  {
   "cell_type": "code",
   "execution_count": 24,
   "metadata": {},
   "outputs": [
    {
     "ename": "NameError",
     "evalue": "name 'login' is not defined",
     "output_type": "error",
     "traceback": [
      "\u001b[1;31m---------------------------------------------------------------------------\u001b[0m",
      "\u001b[1;31mNameError\u001b[0m                                 Traceback (most recent call last)",
      "\u001b[1;32m<ipython-input-24-05e7525e1a50>\u001b[0m in \u001b[0;36m<module>\u001b[1;34m\u001b[0m\n\u001b[0;32m     11\u001b[0m \u001b[1;33m\u001b[0m\u001b[0m\n\u001b[0;32m     12\u001b[0m \u001b[0mLogin\u001b[0m \u001b[1;33m=\u001b[0m \u001b[0mdriver\u001b[0m\u001b[1;33m.\u001b[0m\u001b[0mfind_element_by_id\u001b[0m\u001b[1;33m(\u001b[0m\u001b[1;34m\"app__container\"\u001b[0m\u001b[1;33m)\u001b[0m\u001b[1;33m\u001b[0m\u001b[1;33m\u001b[0m\u001b[0m\n\u001b[1;32m---> 13\u001b[1;33m \u001b[0mlogin\u001b[0m\u001b[1;33m.\u001b[0m\u001b[0mclick\u001b[0m\u001b[1;33m(\u001b[0m\u001b[1;33m)\u001b[0m\u001b[1;33m\u001b[0m\u001b[1;33m\u001b[0m\u001b[0m\n\u001b[0m",
      "\u001b[1;31mNameError\u001b[0m: name 'login' is not defined"
     ]
    }
   ],
   "source": [
    "from selenium import webdriver\n",
    "path=r\"D:\\\\GitHUB#\\\\chromedriver.exe\"\n",
    "driver=webdriver.Chrome(path)\n",
    "driver.get(\"https://www.linkedin.com/login?fromSignIn=true&trk=guest_homepage-basic_nav-header-signin\")\n",
    "\n",
    "user_id_id = driver.find_element_by_id(\"username\")\n",
    "user_id_id.send_keys(user_id)\n",
    "\n",
    "password_id = driver.find_element_by_id(\"password\")\n",
    "password_id.send_keys(password)\n",
    "\n",
    "Login = driver.find_element_by_id(\"app__container\")\n",
    "login.click()"
   ]
  },
  {
   "cell_type": "code",
   "execution_count": 25,
   "metadata": {},
   "outputs": [],
   "source": []
  },
  {
   "cell_type": "code",
   "execution_count": null,
   "metadata": {},
   "outputs": [],
   "source": []
  },
  {
   "cell_type": "code",
   "execution_count": null,
   "metadata": {},
   "outputs": [],
   "source": []
  },
  {
   "cell_type": "code",
   "execution_count": null,
   "metadata": {},
   "outputs": [],
   "source": []
  },
  {
   "cell_type": "code",
   "execution_count": null,
   "metadata": {},
   "outputs": [],
   "source": []
  }
 ],
 "metadata": {
  "kernelspec": {
   "display_name": "Python 3",
   "language": "python",
   "name": "python3"
  },
  "language_info": {
   "codemirror_mode": {
    "name": "ipython",
    "version": 3
   },
   "file_extension": ".py",
   "mimetype": "text/x-python",
   "name": "python",
   "nbconvert_exporter": "python",
   "pygments_lexer": "ipython3",
   "version": "3.7.6"
  }
 },
 "nbformat": 4,
 "nbformat_minor": 4
}
