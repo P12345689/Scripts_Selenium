{
 "cells": [
  {
   "cell_type": "markdown",
   "metadata": {},
   "source": [
    "# Automatic wifi connection Bot\n",
    "\n",
    "1. Check for the saved networks\n",
    "2. Check for the Available Networks\n",
    "3. Ask the user which saved network he wants to login \n",
    "4. Disconnet the currently connected network\n",
    "5. If preferred netwrok is not saved then check wheather it is available or not \n",
    "6. If preferred netwrok is in saved then check whether it is available or not \n",
    "7. If it's available then connect\n"
   ]
  },
  {
   "cell_type": "markdown",
   "metadata": {},
   "source": [
    "### Netsh\n",
    "\n",
    "Netsh is a command line scripting utility which allows you to display or modify the network configuration of a computer "
   ]
  },
  {
   "cell_type": "markdown",
   "metadata": {},
   "source": [
    "#### Check for the saved networks\n",
    "\n",
    "netsh wlan show profiles : shows the currently saaved networks"
   ]
  },
  {
   "cell_type": "markdown",
   "metadata": {},
   "source": [
    "os.popen(): open a pipe to or from command and returns an open file object connected to the pipe, which can be read or written"
   ]
  },
  {
   "cell_type": "code",
   "execution_count": 1,
   "metadata": {},
   "outputs": [],
   "source": [
    "import os\n",
    "import sys"
   ]
  },
  {
   "cell_type": "code",
   "execution_count": 2,
   "metadata": {},
   "outputs": [
    {
     "name": "stdout",
     "output_type": "stream",
     "text": [
      "The Wireless AutoConfig Service (wlansvc) is not running.\n",
      "\n"
     ]
    }
   ],
   "source": [
    "saved_profiles = os.popen('netsh wlan show profiles').read()\n",
    "print(saved_profiles)"
   ]
  },
  {
   "cell_type": "markdown",
   "metadata": {},
   "source": [
    "#### Check for the available networks\n",
    "\n",
    "netsh wlan show networks : show the available currently available networks"
   ]
  },
  {
   "cell_type": "code",
   "execution_count": 3,
   "metadata": {},
   "outputs": [
    {
     "name": "stdout",
     "output_type": "stream",
     "text": [
      "The Wireless AutoConfig Service (wlansvc) is not running.\n",
      "\n"
     ]
    }
   ],
   "source": [
    "available_profiles = os.popen('netsh wlan show networks').read()\n",
    "print(available_profiles)"
   ]
  },
  {
   "cell_type": "markdown",
   "metadata": {},
   "source": [
    "#### Input the preferred networks\n"
   ]
  },
  {
   "cell_type": "code",
   "execution_count": 4,
   "metadata": {},
   "outputs": [
    {
     "name": "stdout",
     "output_type": "stream",
     "text": [
      "Enter the prefeered wifi for your connection: Pritam\n"
     ]
    }
   ],
   "source": [
    "preffered_ssid = input('Enter the prefeered wifi for your connection: ')"
   ]
  },
  {
   "cell_type": "markdown",
   "metadata": {},
   "source": [
    "#### Disconnect the currently connected network\n",
    "\n",
    "netsh wlan disconnect : disconnects the connection with the current networks"
   ]
  },
  {
   "cell_type": "code",
   "execution_count": null,
   "metadata": {},
   "outputs": [],
   "source": [
    "response = os.popen('netwsh wlan disconnect').read()\n",
    "print(response)"
   ]
  },
  {
   "cell_type": "markdown",
   "metadata": {},
   "source": [
    "#### Check if preferred network is saved or not"
   ]
  },
  {
   "cell_type": "code",
   "execution_count": null,
   "metadata": {},
   "outputs": [],
   "source": [
    "if preffered_ssid not in saved_profiles:\n",
    "    print(\"Profiles for \"+ preffered_ssid+\"is not saved in system\")\n",
    "    print(\"Sorry but can't establlish the connection\")\n",
    "    sys.exit()\n",
    "else:\n",
    "    print(\"Profile is saved\")"
   ]
  },
  {
   "cell_type": "markdown",
   "metadata": {},
   "source": [
    "#### Check if preferred network is available or not "
   ]
  },
  {
   "cell_type": "code",
   "execution_count": null,
   "metadata": {},
   "outputs": [],
   "source": [
    "while True:\n",
    "    avail = os.popen('netsh wlan show networks').read()\n",
    "    \n",
    "    if preferred_ssid in avail:\n",
    "        print('Found')\n",
    "        break"
   ]
  },
  {
   "cell_type": "markdown",
   "metadata": {},
   "source": [
    "#### Connect to the preferred connection\n",
    "\n",
    "netsh  wlan connect name=preferred_ssid"
   ]
  },
  {
   "cell_type": "code",
   "execution_count": null,
   "metadata": {},
   "outputs": [],
   "source": [
    "print('---- connecting --- ')\n",
    "resp = os.popen('netsh wlan connect name='+'\"'+preferred_ssid+'\"').read()\n",
    "print(resp)\n"
   ]
  }
 ],
 "metadata": {
  "kernelspec": {
   "display_name": "Python 3",
   "language": "python",
   "name": "python3"
  },
  "language_info": {
   "codemirror_mode": {
    "name": "ipython",
    "version": 3
   },
   "file_extension": ".py",
   "mimetype": "text/x-python",
   "name": "python",
   "nbconvert_exporter": "python",
   "pygments_lexer": "ipython3",
   "version": "3.7.6"
  }
 },
 "nbformat": 4,
 "nbformat_minor": 4
}
