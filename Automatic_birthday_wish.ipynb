{
 "cells": [
  {
   "cell_type": "markdown",
   "metadata": {},
   "source": [
    "# Facebook Birthday Bot"
   ]
  },
  {
   "cell_type": "markdown",
   "metadata": {},
   "source": [
    "1. Log in to your FB account\n",
    "2. See how many peopple have birthday today\n",
    "3. Go to events then Go to  Birthdays\n",
    "4. For everyone who has their birthday today\n",
    "5. Find thier textbox\n",
    "6. Enter the message\n",
    "7. Send the message\n",
    "8. Close the browser"
   ]
  },
  {
   "cell_type": "markdown",
   "metadata": {},
   "source": [
    "#### Login to FB account"
   ]
  },
  {
   "cell_type": "code",
   "execution_count": 31,
   "metadata": {},
   "outputs": [
    {
     "name": "stderr",
     "output_type": "stream",
     "text": [
      "C:\\Users\\Pritam\\anaconda3\\lib\\site-packages\\ipykernel_launcher.py:9: DeprecationWarning: use options instead of chrome_options\n",
      "  if __name__ == '__main__':\n"
     ]
    }
   ],
   "source": [
    "import time\n",
    "from selenium import webdriver\n",
    "from selenium.webdriver.common.keys import Keys\n",
    "\n",
    "\n",
    "options = webdriver.ChromeOptions();\n",
    "options.add_argument(\"--disable-notifications\");\n",
    "#options.binary_location = \"D:/GitHUB#\"\n",
    "driver = webdriver.Chrome(\"D:\\\\GitHUB#\\\\chromedriver.exe\", chrome_options=options)\n",
    "\n",
    "#path=r\"D:\\\\GitHUB#\\\\chromedriver.exe\"\n",
    "#driver=webdriver.Chrome(path)\n",
    "driver.get(\"https://www.facebook.com/\")\n",
    "user_id = '' # Enter the Username \n",
    "password = '' # Enter the Password\n",
    "user_id_id = driver.find_element_by_id(\"email\")\n",
    "user_id_id.send_keys(user_id)\n",
    "\n",
    "password_id = driver.find_element_by_id(\"pass\")\n",
    "password_id.send_keys(password)\n",
    "\n",
    "password_id.send_keys(Keys.TAB)\n",
    "password_id.send_keys(Keys.ENTER)\n",
    "\n",
    "time.sleep(20)\n",
    "\n",
    "message = \"Happy Birthday !! Have A Great Day\"\n",
    "t= '//*[@id=\"navItem_2344061033\"]/a/div'\n",
    "Events = driver.find_element_by_xpath(t)\n",
    "Events.click()\n",
    "\n",
    "time.sleep(5)\n",
    "\n",
    "driver.get(\"https://www.facebook.com/events/birthdays/\")\n",
    "\n",
    "bday_list = driver.find_elements_by_xpath(\"//*[@class='enter_submit uiTextareaNoResize uiTextareaAutogrow uiStreamInlineTextarea inlineReplyTextArea mentionsTextarea textInput']\")\n",
    "for element in bday_list:\n",
    "    element_id = str(element.get_attribute('id'))\n",
    "    XPATH = '//*[@id =\"' + element_id +'\"]'\n",
    "    post = driver.find_element_by_xpath(XPATH)\n",
    "    post.send_keys(message)\n",
    "    post.send_keys(Keys.ENTER)\n",
    "    \n"
   ]
  },
  {
   "cell_type": "code",
   "execution_count": 32,
   "metadata": {},
   "outputs": [
    {
     "data": {
      "text/plain": [
       "list"
      ]
     },
     "execution_count": 32,
     "metadata": {},
     "output_type": "execute_result"
    }
   ],
   "source": [
    "type(bday_list)"
   ]
  },
  {
   "cell_type": "code",
   "execution_count": null,
   "metadata": {},
   "outputs": [],
   "source": []
  }
 ],
 "metadata": {
  "kernelspec": {
   "display_name": "Python 3",
   "language": "python",
   "name": "python3"
  },
  "language_info": {
   "codemirror_mode": {
    "name": "ipython",
    "version": 3
   },
   "file_extension": ".py",
   "mimetype": "text/x-python",
   "name": "python",
   "nbconvert_exporter": "python",
   "pygments_lexer": "ipython3",
   "version": "3.7.6"
  }
 },
 "nbformat": 4,
 "nbformat_minor": 4
}
