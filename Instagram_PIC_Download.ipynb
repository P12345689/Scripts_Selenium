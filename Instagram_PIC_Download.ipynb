{
 "cells": [
  {
   "cell_type": "markdown",
   "metadata": {},
   "source": [
    "# Instagram Profile Pic Downloader\n",
    "\n",
    "1. Open Google\n",
    "2. Go to Instagram\n",
    "3. Take the user handle of the profile as input\n",
    "4. Go to the Profile \n",
    "5. Download the Profile picture"
   ]
  },
  {
   "cell_type": "code",
   "execution_count": 1,
   "metadata": {},
   "outputs": [
    {
     "name": "stderr",
     "output_type": "stream",
     "text": [
      "C:\\Users\\Pritam\\anaconda3\\lib\\site-packages\\ipykernel_launcher.py:7: DeprecationWarning: use options instead of chrome_options\n",
      "  import sys\n"
     ]
    },
    {
     "name": "stdout",
     "output_type": "stream",
     "text": [
      "Enter the user handle of the profile: roypritamro\n",
      "The profile pic has been downloaded at: D:\\roypritamro.jpg\n"
     ]
    }
   ],
   "source": [
    "import time\n",
    "from selenium import webdriver\n",
    "\n",
    "options = webdriver.ChromeOptions();\n",
    "options.add_argument(\"--disable-notifications\");\n",
    "#options.binary_location = \"D:/GitHUB#\"\n",
    "driver = webdriver.Chrome(\"D:\\\\GitHUB#\\\\chromedriver.exe\", chrome_options=options)\n",
    "\n",
    "\n",
    "user_h=input(\"Enter the user handle of the profile: \")\n",
    "url='https://www.instagram.com/'\n",
    "url_p=url+user_h\n",
    "\n",
    "#open the profile\n",
    "driver.get(url_p)\n",
    "\n",
    "\n",
    "try:\n",
    "\timage=driver.find_element_by_xpath('//img[@class=\"_6q-tv\"]')\n",
    "except:\n",
    "\timage=driver.find_element_by_xpath('//img[@class=\"be6sR\"]')\n",
    "\n",
    "\n",
    "img_link=image.get_attribute('src')\n",
    "\n",
    "\n",
    "path=\"D:\\\\\"+user_h+\".jpg\"\n",
    "\n",
    "import urllib.request\n",
    "\n",
    "urllib.request.urlretrieve(img_link,path)\n",
    "\n",
    "print(\"The profile pic has been downloaded at: \"+path)\n"
   ]
  },
  {
   "cell_type": "code",
   "execution_count": null,
   "metadata": {},
   "outputs": [],
   "source": []
  }
 ],
 "metadata": {
  "kernelspec": {
   "display_name": "Python 3",
   "language": "python",
   "name": "python3"
  },
  "language_info": {
   "codemirror_mode": {
    "name": "ipython",
    "version": 3
   },
   "file_extension": ".py",
   "mimetype": "text/x-python",
   "name": "python",
   "nbconvert_exporter": "python",
   "pygments_lexer": "ipython3",
   "version": "3.7.6"
  }
 },
 "nbformat": 4,
 "nbformat_minor": 4
}
